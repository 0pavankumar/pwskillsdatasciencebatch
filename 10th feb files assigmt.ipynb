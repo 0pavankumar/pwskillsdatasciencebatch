{
 "cells": [
  {
   "cell_type": "markdown",
   "id": "da1c4775-0b71-4dd9-8cd5-b2a5d842fafe",
   "metadata": {},
   "source": [
    "Q1. Which function is used to open a file? What are the different modes of opening a file? Explain each mode\n",
    "of file opening."
   ]
  },
  {
   "cell_type": "markdown",
   "id": "c1e1824e-630a-4c3e-ba42-a542feb07800",
   "metadata": {},
   "source": [
    "ANS: The different modes of opening a file in Python are:\n",
    "1.\"r\" (read mode): This mode opens a file for reading only. It raises an error if the file does not exist.\n",
    "\n",
    "2.\"w\" (write mode): This mode opens a file for writing only. If the file already exists, it truncates the file to zero length. If the file does not exist, it creates a new file.\n",
    "\n",
    "3.\"a\" (append mode): This mode opens a file for writing only. If the file already exists, it appends data to the end of the file. If the file does not exist, it creates a new file.\n",
    "\n",
    "4.\"x\" (exclusive creation mode): This mode creates a new file and opens it for writing only. If the file already exists, it raises an error.\n",
    "\n",
    "5.\"b\" (binary mode): This mode opens a file in binary mode. It should be used with one of the other modes (e.g., \"rb\" for read mode in binary).\n",
    "\n",
    "Modes can be combined with a plus sign (\"+\") to allow both reading and writing. For example, \"r+\" opens the file for both reading and writing.\n",
    "\n",
    "It's important to note that when a file is opened, it should always be closed after use using the close() function."
   ]
  },
  {
   "cell_type": "markdown",
   "id": "7337e529-cd81-42c5-9899-026edb202422",
   "metadata": {},
   "source": [
    "-----------------------------------------------------------------------------------------------------------------------------------------"
   ]
  },
  {
   "cell_type": "markdown",
   "id": "ab6cea40-6be1-4259-b82e-91a5646e7bed",
   "metadata": {},
   "source": [
    "Q2. Why close() function is used? Why is it important to close a file?"
   ]
  },
  {
   "cell_type": "markdown",
   "id": "5f0d86bf-78fc-4cb9-9bd3-b9134108bd8e",
   "metadata": {},
   "source": [
    "ANS: The close() function is used to close a file that was previously opened using the open() function in Python. It is important to close a file after use for several reasons:\n",
    "\n",
    "1.To free up system resources: When a file is opened, the operating system assigns resources to handle the file. If a file is not closed after use, these resources will continue to be allocated until the program terminates or the file is closed. This can lead to resource exhaustion, which can cause problems for the operating system and other applications.\n",
    "\n",
    "2.To ensure data is written to the file: When a file is opened for writing, data is written to an internal buffer until it is written to the file on disk. If the file is not closed properly, the data in the buffer may not be written to the file, which can result in data loss or corruption.\n",
    "\n",
    "3.To prevent accidental modification: If a file is not closed after use, it can still be modified by other programs or users, which can lead to unexpected behavior and errors.\n",
    "\n",
    "To avoid these problems, it's important to always close a file after use using the close() function. Alternatively, you can use a context manager (with open(...) as file:) to automatically close the file when the block of code is exited."
   ]
  },
  {
   "cell_type": "markdown",
   "id": "fa3bf215-0170-4a25-99c0-eaefd00c6360",
   "metadata": {},
   "source": [
    "--------------------------------------------------------------------------------------------------------------------------------------------"
   ]
  },
  {
   "cell_type": "markdown",
   "id": "8aded7bc-54b5-4d42-8d29-52e0e965bed3",
   "metadata": {},
   "source": [
    "Q3. Write a python program to create a text file. Write ‘I want to become a Data Scientist’ in that file. Then\n",
    "close the file. Open this file and read the content of the file."
   ]
  },
  {
   "cell_type": "code",
   "execution_count": 8,
   "id": "fe6a1942-f5ec-49e1-bb97-c31c967b02a6",
   "metadata": {},
   "outputs": [
    {
     "name": "stdout",
     "output_type": "stream",
     "text": [
      "I want to become data scientist.\n"
     ]
    }
   ],
   "source": [
    "# Write a string to the file\n",
    "with open(\"text.txt\", \"w\") as file:\n",
    "    file.write(\"I want to become data scientist.\")\n",
    "\n",
    " # Open the file in read mode\n",
    "with open(\"text.txt\") as file:\n",
    "    # Print the content of the file\n",
    "    print(file.read())"
   ]
  },
  {
   "cell_type": "markdown",
   "id": "01d95e75-3fda-4e6a-bd78-4dea1f90e9b7",
   "metadata": {},
   "source": [
    "-------------------------------------------------------------------------------------------------------------------------------------"
   ]
  },
  {
   "cell_type": "markdown",
   "id": "83628c8d-4c97-4128-b05d-bb1acbc00739",
   "metadata": {},
   "source": [
    "Q4. Explain the following with python code: read(), readline() and readlines()."
   ]
  },
  {
   "cell_type": "markdown",
   "id": "376dcb0c-d02c-4dd7-98ff-590de3b0f6c3",
   "metadata": {},
   "source": [
    "In Python, there are several ways to read the contents of a file. Here's a brief explanation of read(), readline(), and readlines(), along with examples of how to use them:\n",
    "\n",
    "1.read(): This method reads the entire content of a file and returns it as a string. If the file is too large, it may not fit into memory."
   ]
  },
  {
   "cell_type": "code",
   "execution_count": 9,
   "id": "55ee443c-6168-4ab4-8006-4793d04e76c8",
   "metadata": {},
   "outputs": [
    {
     "name": "stdout",
     "output_type": "stream",
     "text": [
      "I want to become data scientist.\n"
     ]
    }
   ],
   "source": [
    "# Open the file in read mode\n",
    "file = open(\"example.txt\", \"r\")\n",
    "\n",
    "# Read the entire content of the file\n",
    "content = file.read()\n",
    "\n",
    "# Close the file\n",
    "file.close()\n",
    "\n",
    "# Print the content of the file\n",
    "print(content)"
   ]
  },
  {
   "cell_type": "markdown",
   "id": "8f8a7491-56a2-41d0-97ba-03d21d689107",
   "metadata": {},
   "source": [
    "2.readline(): This method reads one line at a time from the file and returns it as a string. It returns an empty string when the end of the file is reached"
   ]
  },
  {
   "cell_type": "code",
   "execution_count": 10,
   "id": "6e0c7bd7-8f8b-4e79-8322-86a55e3e9e54",
   "metadata": {},
   "outputs": [
    {
     "name": "stdout",
     "output_type": "stream",
     "text": [
      "I want to become data scientist.\n",
      "\n"
     ]
    }
   ],
   "source": [
    "# Open the file in read mode\n",
    "file = open(\"example.txt\", \"r\")\n",
    "\n",
    "# Read the first line of the file\n",
    "line1 = file.readline()\n",
    "\n",
    "# Read the second line of the file\n",
    "line2 = file.readline()\n",
    "\n",
    "# Close the file\n",
    "file.close()\n",
    "\n",
    "# Print the first two lines of the file\n",
    "print(line1)\n",
    "print(line2)"
   ]
  },
  {
   "cell_type": "markdown",
   "id": "813ad240-5b25-4f92-aacb-78ebe509ad42",
   "metadata": {},
   "source": [
    "3.readlines(): This method reads all the lines of a file and returns them as a list of strings. Each line is a separate element in the list"
   ]
  },
  {
   "cell_type": "code",
   "execution_count": 6,
   "id": "ca3e9860-d743-4370-a2ad-3ab05aa9e099",
   "metadata": {},
   "outputs": [
    {
     "name": "stdout",
     "output_type": "stream",
     "text": [
      "I want to become data scientist.\n"
     ]
    }
   ],
   "source": [
    "# Open the file in read mode\n",
    "file = open(\"example.txt\", \"r\")\n",
    "\n",
    "# Read all the lines of the file\n",
    "lines = file.readlines()\n",
    "\n",
    "# Close the file\n",
    "file.close()\n",
    "\n",
    "# Print all the lines of the file\n",
    "for line in lines:\n",
    "    print(line)"
   ]
  },
  {
   "cell_type": "markdown",
   "id": "173b6075-d01a-44bd-a4c7-a66799ba61de",
   "metadata": {},
   "source": [
    "Q5. Explain why with statement is used with open(). What is the advantage of using with statement and\n",
    "open() together?"
   ]
  },
  {
   "cell_type": "markdown",
   "id": "f7107670-ce51-4fdf-813e-a7d49bb746cb",
   "metadata": {},
   "source": [
    "The with statement in Python provides a convenient way to ensure that a file is closed properly after its operations have been completed. It's often used with the open() function, which is used to open files in different modes for reading, writing, or appending data.\n",
    "\n",
    "When you use the with statement with open(), Python will automatically close the file for you once you're done with it. This ensures that you don't accidentally leave files open, which can cause issues like data corruption or a lack of available resources.\n",
    "\n",
    "Here's an example of how you can use with and open() together to read data from a file:\n",
    "\n",
    "In this example, the file 'example.txt' is opened for reading, and its contents are read into the variable data. Once the block inside the with statement is finished executing, the file is automatically closed.\n",
    "\n",
    "The main advantage of using with and open() together is that it simplifies file handling by eliminating the need for you to manually close the file. This can save you time and reduce the likelihood of errors caused by leaving files open for too long.\n",
    "\n",
    "Additionally, using with and open() together can make your code more readable and easier to maintain. It clearly defines the scope of the file operation and ensures that the file is closed when it's no longer needed."
   ]
  },
  {
   "cell_type": "code",
   "execution_count": 5,
   "id": "b70321fa-22c7-44e5-a68b-6fc87e218114",
   "metadata": {},
   "outputs": [
    {
     "name": "stdout",
     "output_type": "stream",
     "text": [
      "I want to become data scientist.\n"
     ]
    }
   ],
   "source": [
    "with open('example.txt', 'r') as f:\n",
    "    data = f.read()\n",
    "    print(data)"
   ]
  },
  {
   "cell_type": "markdown",
   "id": "b9dc33e6-0c3f-469a-8fcd-d0dd8f7cc831",
   "metadata": {},
   "source": [
    "Q6. Explain the write() and writelines() functions. Give a suitable example."
   ]
  },
  {
   "cell_type": "markdown",
   "id": "d861e04b-a456-4bbf-90b7-2893bbc004b9",
   "metadata": {},
   "source": [
    "In Python, both the write() and writelines() functions are used to write data to a file. Here's how they work:\n",
    "\n",
    "The write() function:\n",
    "The write() function is used to write a string or a sequence of bytes to a file. The syntax for using the write() function is as follows:\n",
    "\n",
    "python\n",
    "file_object.write(string)\n",
    "\n",
    "Here, file_object is the file object that you want to write to, and string is the string that you want to write to the file. \n",
    "The write() function returns the number of characters written to the file.\n",
    "\n",
    "For example, the following code will create a new file named test.txt and write the string \"Hello, World!\" to it:\n"
   ]
  },
  {
   "cell_type": "code",
   "execution_count": 15,
   "id": "457076bf-4ac3-40f2-a046-07bcd14b91a2",
   "metadata": {},
   "outputs": [],
   "source": [
    "with open('test.txt', 'w') as file:\n",
    "    file.write('Hello, World!')\n"
   ]
  },
  {
   "cell_type": "markdown",
   "id": "f85e1c8b-e6eb-4593-950d-3528803e4e21",
   "metadata": {},
   "source": [
    "The writelines() function:\n",
    "The writelines() function is used to write a sequence of strings or bytes to a file. The syntax for using the writelines() function is as follows:\n",
    "\n",
    "python\n",
    "file_object.writelines(iterable)\n"
   ]
  },
  {
   "cell_type": "markdown",
   "id": "6e0f4473-89fc-4543-8d4a-13aaddccc145",
   "metadata": {},
   "source": [
    "Here, file_object is the file object that you want to write to, and iterable is an iterable object (e.g. a list or a tuple) containing the strings or bytes that you want to write to the file. The writelines() function does not add any line separators between the strings, so you need to include them in the strings themselves if you want to separate the lines.\n",
    "\n",
    "For example, the following code will create a new file named test.txt and write three strings to it, separated by newlines:\n",
    "\n"
   ]
  },
  {
   "cell_type": "code",
   "execution_count": 14,
   "id": "b725ac0c-2c23-4947-ae40-baadd8fb5b30",
   "metadata": {},
   "outputs": [],
   "source": [
    "\n",
    "with open('test.txt', 'w') as file:\n",
    "    file.writelines(['Line 1\\n', 'Line 2\\n', 'Line 3\\n'])\n"
   ]
  },
  {
   "cell_type": "markdown",
   "id": "75257341-79ba-4c46-acac-ecab7637ca54",
   "metadata": {},
   "source": [
    "In summary, the write() function writes a single string or a sequence of bytes to a file, while the writelines() function writes a sequence of strings or bytes to a file, without adding line separators between them."
   ]
  },
  {
   "cell_type": "code",
   "execution_count": null,
   "id": "c9409f7b-945b-48e3-aab3-4225de1b002d",
   "metadata": {},
   "outputs": [],
   "source": []
  }
 ],
 "metadata": {
  "kernelspec": {
   "display_name": "Python 3 (ipykernel)",
   "language": "python",
   "name": "python3"
  },
  "language_info": {
   "codemirror_mode": {
    "name": "ipython",
    "version": 3
   },
   "file_extension": ".py",
   "mimetype": "text/x-python",
   "name": "python",
   "nbconvert_exporter": "python",
   "pygments_lexer": "ipython3",
   "version": "3.10.8"
  }
 },
 "nbformat": 4,
 "nbformat_minor": 5
}
