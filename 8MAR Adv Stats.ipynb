{
 "cells": [
  {
   "cell_type": "markdown",
   "id": "1e75c051-a513-4493-9842-922c22a3a43d",
   "metadata": {},
   "source": [
    "# 1Q What is the Probability density function? \n"
   ]
  },
  {
   "cell_type": "markdown",
   "id": "58b471f9-6525-4f08-b0d9-84da542fda2e",
   "metadata": {},
   "source": [
    "The Probability Density Function (PDF) is a fundamental concept in probability theory and statistics. It is used to describe the probability distribution of a continuous random variable. \n",
    "\n",
    "In simple terms, the PDF represents the likelihood of a random variable taking on a specific value within a given range. Unlike discrete random variables, which have probability mass functions (PMF) that assign probabilities to specific values, continuous random variables have PDFs that assign probabilities to ranges or intervals of values.\n",
    "\n",
    "The PDF is defined as a function that integrates to 1 over the entire range of possible values for the random variable. It provides the relative likelihood of different values occurring within that range. The PDF does not directly give the probability of a specific value but rather the probability density at that value.\n",
    "\n",
    "Mathematically, the PDF is denoted as f(x), where x represents the random variable. The area under the PDF curve within a specific interval represents the probability of the random variable falling within that interval.\n",
    "\n",
    "The PDF is commonly used in various statistical analyses and modeling techniques, such as in inferential statistics, hypothesis testing, and estimation. It helps quantify the uncertainty associated with continuous random variables and allows us to make probabilistic statements about the likelihood of different outcomes.\n",
    "\n",
    "It's important to note that the PDF is specific to continuous random variables, and for discrete random variables, the probability mass function (PMF) is used instead."
   ]
  },
  {
   "cell_type": "markdown",
   "id": "334256a8-5717-4f66-9f28-01905a476d88",
   "metadata": {},
   "source": [
    "# 2Q What are the types of Probability distribution?"
   ]
  },
  {
   "cell_type": "markdown",
   "id": "ded80603-1250-4b66-ae08-3c7e928a8489",
   "metadata": {},
   "source": [
    "There are several types of probability distributions, each with its own characteristics and applications. The choice of distribution depends on the nature of the data and the problem at hand. Here are some common types of probability distributions:\n",
    "\n",
    "1. Normal Distribution (Gaussian Distribution): The normal distribution is one of the most widely known and used probability distributions. It is symmetric and bell-shaped, characterized by its mean and standard deviation. Many natural phenomena and measurements tend to follow a normal distribution, making it a fundamental distribution in statistics.\n",
    "\n",
    "2. Binomial Distribution: The binomial distribution describes the number of successes in a fixed number of independent Bernoulli trials, where each trial has a constant probability of success. It is commonly used to model outcomes with two possible outcomes, such as success or failure, heads or tails, or yes or no.\n",
    "\n",
    "3. Poisson Distribution: The Poisson distribution models the number of events occurring in a fixed interval of time or space. It is often used to represent rare events or count data, such as the number of phone calls received in an hour or the number of accidents in a day.\n",
    "\n",
    "4. Exponential Distribution: The exponential distribution models the time between events in a Poisson process, where events occur independently and at a constant average rate. It is often used to model the time until an event occurs, such as the time between customer arrivals or the lifespan of a device.\n",
    "\n",
    "5. Uniform Distribution: The uniform distribution represents a constant probability for all values within a specified range. It is characterized by a rectangular shape, where all values have equal likelihood. It is commonly used when all outcomes within a range are equally likely.\n",
    "\n",
    "6. Gamma Distribution: The gamma distribution is a flexible distribution that extends the exponential distribution. It is used to model continuous positive data and is often employed in areas such as reliability analysis, queuing theory, and time-to-failure studies.\n",
    "\n",
    "7. Beta Distribution: The beta distribution is a versatile distribution that is defined on the interval [0, 1]. It is often used as a prior distribution in Bayesian analysis and is well-suited for modeling proportions or probabilities.\n",
    "\n",
    "These are just a few examples of probability distributions, and there are many others that are specific to certain applications or have unique characteristics. The choice of distribution depends on the context of the problem, the characteristics of the data, and the assumptions that can be made."
   ]
  },
  {
   "cell_type": "markdown",
   "id": "6a30190a-5e50-4935-b800-0b3504e6b3e1",
   "metadata": {},
   "source": [
    "# 3Q Write a Python function to calculate the probability density function of a normal distribution with  given mean and standard deviation at a given point. "
   ]
  },
  {
   "cell_type": "code",
   "execution_count": 3,
   "id": "2e2f0096-9f5b-4985-98a2-2fde94086e8b",
   "metadata": {},
   "outputs": [
    {
     "name": "stdout",
     "output_type": "stream",
     "text": [
      "PDF at x = 3 : 0.09666702920071232\n"
     ]
    }
   ],
   "source": [
    "from scipy.stats import norm\n",
    "\n",
    "def calculate_normal_pdf(x, mean, std_dev):\n",
    "    \"\"\"\n",
    "    Calculate the probability density function (PDF) of a normal distribution at a given point.\n",
    "\n",
    "    Args:\n",
    "        x (float): The point at which to evaluate the PDF.\n",
    "        mean (float): The mean of the normal distribution.\n",
    "        std_dev (float): The standard deviation of the normal distribution.\n",
    "\n",
    "    Returns:\n",
    "        float: The probability density at the given point.\n",
    "    \"\"\"\n",
    "    pdf = norm.pdf(x, mean, std_dev)\n",
    "    return pdf\n",
    "mean = 2\n",
    "std_dev = 4\n",
    "x = 3\n",
    "pdf = calculate_normal_pdf(x, mean, std_dev)\n",
    "print(\"PDF at x =\", x, \":\", pdf)\n",
    "\n"
   ]
  },
  {
   "cell_type": "markdown",
   "id": "4810f9bb-595f-40e8-aeae-3ed0121bf037",
   "metadata": {},
   "source": [
    "# Q4. What are the properties of Binomial distribution? Give two examples of events where binomial  distribution can be applied. \n"
   ]
  },
  {
   "cell_type": "markdown",
   "id": "ced31823-02cf-4369-ba35-e4740fd13bf9",
   "metadata": {},
   "source": [
    "The Binomial distribution has the following properties:\n",
    "\n",
    "1. Fixed Number of Trials: The binomial distribution models a fixed number of independent trials or experiments. Each trial can have one of two outcomes: success or failure.\n",
    "\n",
    "2. Independent Trials: The outcomes of each trial are independent of each other, meaning the outcome of one trial does not affect the outcomes of other trials.\n",
    "\n",
    "3. Constant Probability: The probability of success remains constant across all trials. It is denoted as \"p\" and represents the probability of a success in a single trial.\n",
    "\n",
    "4. Discrete Outcome: The binomial distribution deals with discrete outcomes, meaning the number of successes in the fixed number of trials is a whole number.\n",
    "\n",
    "5. Fixed Number of Successes: The distribution is characterized by the number of successes, denoted as \"k,\" which can range from 0 to the total number of trials.\n",
    "\n",
    "Two examples where the binomial distribution can be applied are:\n",
    "\n",
    "1. Coin Flips: Consider flipping a fair coin multiple times. Each flip can result in a success (heads) or failure (tails). The binomial distribution can be used to model the number of heads obtained in a fixed number of coin flips.\n",
    "\n",
    "2. Product Defects: In a manufacturing process, each item produced can be either defective (failure) or non-defective (success). The binomial distribution can be used to model the number of defective items in a fixed number of products produced.\n",
    "\n",
    "In both cases, the binomial distribution helps calculate the probabilities associated with different numbers of successes (e.g., the probability of getting 3 heads in 5 coin flips or the probability of having 2 defective items in 10 products). It provides a framework for understanding the likelihood of specific outcomes in repeated trials with a constant probability of success."
   ]
  },
  {
   "cell_type": "markdown",
   "id": "e7b0c183-5dfc-402c-9469-b7f09c51cac6",
   "metadata": {},
   "source": [
    "# Q5. Generate a random sample of size 1000 from a binomial distribution with probability of success 0.4  and plot a histogram of the results using matplotlib. \n"
   ]
  },
  {
   "cell_type": "code",
   "execution_count": 9,
   "id": "537ea1ff-a442-4c74-8bdb-b62cc44f2d59",
   "metadata": {},
   "outputs": [
    {
     "data": {
      "image/png": "[encoded data removed]",
      "text/plain": [
       "<Figure size 640x480 with 1 Axes>"
      ]
     },
     "metadata": {},
     "output_type": "display_data"
    }
   ],
   "source": [
    "import numpy as np\n",
    "import matplotlib.pyplot as plt\n",
    "\n",
    "# Parameters\n",
    "n = 1000  # Sample size\n",
    "p = 0.4   # Probability of success\n",
    "\n",
    "# Generate random sample from binomial distribution\n",
    "sample = np.random.binomial(n=1, p=p, size=n)\n",
    "\n",
    "# Plot histogram\n",
    "plt.hist(sample, bins=2, edgecolor='red')\n",
    "plt.xlabel('Success (1) / Failure (0)')\n",
    "plt.ylabel('Frequency')\n",
    "plt.title('Histogram of Binomial Distribution')\n",
    "plt.show()\n"
   ]
  },
  {
   "cell_type": "markdown",
   "id": "e52a401c-89ef-4a22-856c-8888999fced7",
   "metadata": {},
   "source": [
    "# Q6. Write a Python function to calculate the cumulative distribution function of a Poisson distribution  with given mean at a given point. "
   ]
  },
  {
   "cell_type": "code",
   "execution_count": 10,
   "id": "e893a5fa-9be5-47a2-8241-6d95b1390ed9",
   "metadata": {},
   "outputs": [
    {
     "name": "stdout",
     "output_type": "stream",
     "text": [
      "CDF at x = 4 : 0.8911780189141513\n"
     ]
    }
   ],
   "source": [
    "from scipy.stats import poisson\n",
    "\n",
    "def calculate_poisson_cdf(x, mean):\n",
    "    \"\"\"\n",
    "    Calculate the cumulative distribution function (CDF) of a Poisson distribution at a given point.\n",
    "\n",
    "    Args:\n",
    "        x (int): The point at which to evaluate the CDF.\n",
    "        mean (float): The mean of the Poisson distribution.\n",
    "\n",
    "    Returns:\n",
    "        float: The cumulative probability up to the given point.\n",
    "    \"\"\"\n",
    "    cdf = poisson.cdf(x, mu=mean)\n",
    "    return cdf\n",
    "mean = 2.5\n",
    "x = 4\n",
    "cdf = calculate_poisson_cdf(x, mean)\n",
    "print(\"CDF at x =\", x, \":\", cdf)\n"
   ]
  },
  {
   "cell_type": "markdown",
   "id": "566a21bc-5d11-4f7c-b00c-ceeb41e6feb3",
   "metadata": {},
   "source": [
    "# Q7. How Binomial distribution different from Poisson distribution? \n"
   ]
  },
  {
   "cell_type": "markdown",
   "id": "42fe3f80-3cac-47f7-96c4-d13c22b88bfb",
   "metadata": {},
   "source": [
    "The Binomial distribution and the Poisson distribution are both probability distributions commonly used in statistics. While they have some similarities, they are distinct from each other in several ways. Here are the key differences between the Binomial distribution and the Poisson distribution:\n",
    "\n",
    "1. Number of Trials:\n",
    "   - Binomial Distribution: The Binomial distribution models a fixed number of independent trials or experiments, denoted as \"n.\"\n",
    "   - Poisson Distribution: The Poisson distribution does not involve a fixed number of trials. It models the number of events occurring in a fixed interval of time or space.\n",
    "\n",
    "2. Type of Events:\n",
    "   - Binomial Distribution: The Binomial distribution is used to model events with two possible outcomes (e.g., success/failure, yes/no) in each trial.\n",
    "   - Poisson Distribution: The Poisson distribution is used to model the occurrence of rare events, such as the number of phone calls received in an hour or the number of accidents in a day.\n",
    "\n",
    "3. Probability of Success:\n",
    "   - Binomial Distribution: The probability of success, denoted as \"p,\" remains constant across all trials in the Binomial distribution.\n",
    "   - Poisson Distribution: The Poisson distribution does not have a fixed probability of success. Instead, it depends on the rate parameter, denoted as \"λ,\" which represents the average rate of event occurrence in a fixed interval.\n",
    "\n",
    "4. Outcome Type:\n",
    "   - Binomial Distribution: The Binomial distribution deals with discrete outcomes, where the number of successes in the fixed number of trials is a whole number.\n",
    "   - Poisson Distribution: The Poisson distribution deals with discrete outcomes as well, representing the count of events occurring in a fixed interval. However, the count can range from zero to infinity.\n",
    "\n",
    "5. Distribution Shape:\n",
    "   - Binomial Distribution: The Binomial distribution is typically symmetric or skewed, depending on the probability of success and the number of trials.\n",
    "   - Poisson Distribution: The Poisson distribution is often positively skewed, as it models rare events where low counts are more likely than high counts.\n",
    "\n",
    "It's important to note that the Poisson distribution can be seen as an approximation of the Binomial distribution under certain conditions. Specifically, when the number of trials is large (approaching infinity) and the probability of success is small, the Binomial distribution approaches the Poisson distribution.\n",
    "\n",
    "In summary, while both the Binomial distribution and the Poisson distribution deal with discrete outcomes, they differ in terms of the number of trials, the type of events, the probability of success, the outcome type, and the distribution shape. The choice between them depends on the nature of the problem and the characteristics of the data."
   ]
  },
  {
   "cell_type": "markdown",
   "id": "47eb542e-ecae-4462-9872-3e347ddb79b4",
   "metadata": {},
   "source": [
    "# Q8. Generate a random sample of size 1000 from a Poisson distribution with mean 5 and calculate the  sample mean and variance. \n"
   ]
  },
  {
   "cell_type": "code",
   "execution_count": 11,
   "id": "d5c8f9d8-ba4b-449c-bc48-71846a9567ae",
   "metadata": {},
   "outputs": [
    {
     "name": "stdout",
     "output_type": "stream",
     "text": [
      "Sample Mean: 4.976\n",
      "Sample Variance: 5.103424\n"
     ]
    }
   ],
   "source": [
    "import numpy as np\n",
    "\n",
    "# Parameters\n",
    "sample_size = 1000\n",
    "mean = 5\n",
    "\n",
    "# Generate random sample from Poisson distribution\n",
    "sample = np.random.poisson(lam =  mean, size =   sample_size)\n",
    "\n",
    "# Calculate sample mean and variance\n",
    "sample_mean = np.mean(sample)\n",
    "sample_variance = np.var(sample)\n",
    "\n",
    "print(\"Sample Mean:\", sample_mean)\n",
    "print(\"Sample Variance:\", sample_variance)\n"
   ]
  },
  {
   "cell_type": "markdown",
   "id": "9d128b5d-2c4d-486f-9fee-502a8ef08184",
   "metadata": {},
   "source": [
    "# Q9. How mean and variance are related in Binomial distribution and Poisson distribution?"
   ]
  },
  {
   "cell_type": "markdown",
   "id": "e9643ae3-7f05-4d39-bc05-383ea9924156",
   "metadata": {},
   "source": [
    "In both the Binomial distribution and the Poisson distribution, the mean and variance are related, but the nature of their relationship differs.\n",
    "\n",
    "Binomial Distribution:\n",
    "In the Binomial distribution, the mean (μ) is equal to the product of the number of trials (n) and the probability of success in each trial (p). Mathematically, μ = n * p. \n",
    "\n",
    "The variance (σ^2) of a Binomial distribution is given by the product of the number of trials (n), the probability of success (p), and the probability of failure (q = 1 - p). Mathematically, σ^2 = n * p * q. \n",
    "\n",
    "Therefore, for the Binomial distribution, the variance is directly related to the mean and depends on both the number of trials and the probability of success.\n",
    "\n",
    "Poisson Distribution:\n",
    "In the Poisson distribution, the mean (μ) and the variance (σ^2) are equal. This property holds true for all Poisson distributions. Mathematically, μ = σ^2.\n",
    "\n",
    "The relationship between the mean and variance in the Poisson distribution indicates that the spread of the distribution is determined solely by the mean. As the mean increases, the distribution becomes more spread out, and as the mean decreases, the distribution becomes more concentrated.\n",
    "\n",
    "In summary, in the Binomial distribution, the variance is influenced by both the number of trials and the probability of success, while the mean and variance are equal in the Poisson distribution. The Poisson distribution has a specific relationship between the mean and variance, which is not the case for the Binomial distribution."
   ]
  },
  {
   "cell_type": "markdown",
   "id": "589dbe44-7c3d-4ad5-abc2-7f96fdf0a68d",
   "metadata": {},
   "source": [
    "# Q10. In normal distribution with respect to mean position, where does the least frequent data appear? \n"
   ]
  },
  {
   "cell_type": "markdown",
   "id": "8334d896-5ade-4a1e-87f1-08b8ea21b4fa",
   "metadata": {},
   "source": [
    "In a normal distribution, the least frequent data points appear in the tails of the distribution, farthest away from the mean. \n",
    "\n",
    "A normal distribution is symmetric, with the mean positioned at the center of the distribution. The frequency of data points gradually decreases as you move away from the mean in both directions towards the tails of the distribution. The tails represent the extreme values, which are less likely to occur compared to values closer to the mean.\n",
    "\n",
    "In a standard normal distribution (with a mean of 0 and a standard deviation of 1), about 68% of the data falls within one standard deviation of the mean, about 95% falls within two standard deviations, and about 99.7% falls within three standard deviations. Therefore, the data points beyond three standard deviations from the mean (in the tails) are the least frequent.\n",
    "\n",
    "To put it simply, the least frequent data points in a normal distribution are located at the extreme ends of the distribution, in the tails, farthest away from the mean."
   ]
  }
 ],
 "metadata": {
  "kernelspec": {
   "display_name": "Python 3 (ipykernel)",
   "language": "python",
   "name": "python3"
  },
  "language_info": {
   "codemirror_mode": {
    "name": "ipython",
    "version": 3
   },
   "file_extension": ".py",
   "mimetype": "text/x-python",
   "name": "python",
   "nbconvert_exporter": "python",
   "pygments_lexer": "ipython3",
   "version": "3.10.8"
  }
 },
 "nbformat": 4,
 "nbformat_minor": 5
}
