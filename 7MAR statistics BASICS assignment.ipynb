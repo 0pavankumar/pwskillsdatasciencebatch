{
 "cells": [
  {
   "cell_type": "markdown",
   "id": "dee45dd3-7b42-40a5-bf4e-f694279192a1",
   "metadata": {},
   "source": [
    "Q1. What are the three measures of central tendency?"
   ]
  },
  {
   "cell_type": "markdown",
   "id": "652ed42a-0fe4-4ee0-a900-3f138a7ca0d7",
   "metadata": {},
   "source": [
    "The three measures of central tendency are:\n",
    "\n",
    "Mean: The mean is calculated by adding up all the values in a dataset and dividing by the number of values in the dataset. It is the most commonly used measure of central tendency.\n",
    "\n",
    "Median: The median is the middle value in a dataset. It is calculated by arranging the data in numerical order and finding the value that is exactly in the middle.\n",
    "\n",
    "Mode: The mode is the value that occurs most frequently in a dataset. In some cases, a dataset may have multiple modes or no mode at all."
   ]
  },
  {
   "cell_type": "markdown",
   "id": "f10c22e1-f946-49b2-80a6-5e3452ed206b",
   "metadata": {},
   "source": [
    "___________________________________________________________________________________________________________________________________________________________"
   ]
  },
  {
   "cell_type": "markdown",
   "id": "bede6991-eb3e-4208-8152-72731b62bed5",
   "metadata": {},
   "source": [
    "Q2. What is the difference between the mean, median, and mode? How are they used to measure the\n",
    "central tendency of a dataset?"
   ]
  },
  {
   "cell_type": "markdown",
   "id": "46321146-8d72-48de-b467-81f6cb9c3e5f",
   "metadata": {},
   "source": [
    "The main differences between the mean, median, and mode are:\n",
    "\n",
    "Mean: The mean is the sum of all values in a dataset divided by the number of values in the dataset. It is sensitive to extreme values (outliers) and can be influenced by them, resulting in a skewed distribution.\n",
    "\n",
    "Median: The median is the middle value of a dataset when it is ordered from smallest to largest. It is less sensitive to extreme values and provides a better measure of central tendency when the data is skewed.\n",
    "\n",
    "Mode: The mode is the most frequent value in a dataset. It is used when we want to know the value that occurs most often in a dataset.\n",
    "\n",
    "The mean, median, and mode are used to measure the central tendency of a dataset, which describes the typical or central value of the data. Mean is commonly used when the data is normally distributed or symmetrical, median is used when the data is skewed or has outliers, and mode is used when we want to know the most frequent value in a dataset.\n",
    "\n",
    "In practice, the choice of measure of central tendency depends on the nature of the data and the research question. It is recommended to report all three measures to provide a more comprehensive understanding of the dataset"
   ]
  },
  {
   "cell_type": "markdown",
   "id": "98e2e0c6-fe31-4a7a-9242-4a6b22ec8031",
   "metadata": {},
   "source": [
    "___________________________________________________________________________________________________________________________________________________________"
   ]
  },
  {
   "cell_type": "markdown",
   "id": "7287afaa-cf8a-4a52-a14f-1912290ccae4",
   "metadata": {},
   "source": [
    "Q3. Measure the three measures of central tendency for the given height data:\n",
    "[178,177,176,177,178.2,178,175,179,180,175,178.9,176.2,177,172.5,178,176.5]"
   ]
  },
  {
   "cell_type": "markdown",
   "id": "5ebae246-cecc-4deb-98e3-28506ca3ebb5",
   "metadata": {},
   "source": [
    "To calculate the measures of central tendency for the given height data:\n",
    "\n",
    "Mean: The mean is calculated by adding up all the values in the dataset and dividing by the number of values.\n",
    "\n",
    "Mean = (178 + 177 + 176 + 177 + 178.2 + 178 + 175 + 179 + 180 + 175 + 178.9 + 176.2 + 177 + 172.5 + 178 + 176.5) / 16\n",
    "\n",
    "Mean = 1768.3 / 16\n",
    "\n",
    "Mean = 110.52\n",
    "\n",
    "Therefore, the mean height is 110.52 cm.\n",
    "\n",
    "Median: The median is the middle value when the data is ordered from smallest to largest.\n",
    "\n",
    "Ordering the data: [172.5, 175, 175, 176, 176.2, 176.5, 177, 177, 178, 178, 178, 178.2, 178.9, 179, 180]\n",
    "\n",
    "Median = (176.5 + 177) / 2\n",
    "\n",
    "Median = 176.75\n",
    "\n",
    "Therefore, the median height is 176.75 cm.\n",
    "\n",
    "Mode: The mode is the most frequent value in the dataset.\n",
    "\n",
    "The mode for this dataset is 178 because it appears 3 times, which is more than any other value.\n",
    "\n",
    "Therefore, the mode height is 178 cm.\n",
    "\n",
    "So, the three measures of central tendency for the given height data are:\n",
    "\n",
    "Mean: 110.52 cm\n",
    "Median: 176.75 cm\n",
    "Mode: 178 cm"
   ]
  },
  {
   "cell_type": "markdown",
   "id": "393f96ea-86af-4120-a64a-29b158f9cfaf",
   "metadata": {},
   "source": [
    "___________________________________________________________________________________________________________________________________________________________"
   ]
  },
  {
   "cell_type": "markdown",
   "id": "984fc48c-ea06-49c5-b44e-4b40a8a40700",
   "metadata": {},
   "source": [
    "Q4. Find the standard deviation for the given data:\n",
    "[178,177,176,177,178.2,178,175,179,180,175,178.9,176.2,177,172.5,178,176.5]"
   ]
  },
  {
   "cell_type": "markdown",
   "id": "2c0d73c7-da5f-4c1c-938f-5bd1125fa54c",
   "metadata": {},
   "source": [
    "To calculate the standard deviation for the given data:\n",
    "\n",
    "Calculate the mean of the dataset:\n",
    "\n",
    "1) Mean = (178 + 177 + 176 + 177 + 178.2 + 178 + 175 + 179 + 180 + 175 + 178.9 + 176.2 + 177 + 172.5 + 178 + 176.5) / 16\n",
    "\n",
    "Mean = 1768.3 / 16\n",
    "\n",
    "Mean = 110.52\n",
    "\n",
    "Therefore, the mean height is 110.52 cm.\n",
    "\n",
    "2)Calculate the deviation of each data point from the mean:\n",
    "\n",
    "Deviations from the mean: [67.48, 66.48, 65.48, 66.48, 67.68, 67.48, 64.48, 68.48, 69.48, 64.48, 68.38, 65.68, 66.48, 62.98, 67.48, 66.98]\n",
    "\n",
    "3)Square each deviation:\n",
    "\n",
    "Squared deviations: [4554.30, 4417.20, 4283.30, 4417.20, 4570.66, 4554.30, 4162.70, 4698.30, 4826.30, 4162.70, 4686.49, 4319.99, 4417.20, 3960.10, 4554.30, 4489.10]\n",
    "\n",
    "Calculate the sum of the squared deviations:\n",
    "\n",
    "Sum of squared deviations = 69739.76\n",
    "\n",
    "4)Divide the sum of the squared deviations by the number of data points minus 1, and take the square root of the result:\n",
    "\n",
    "Standard deviation = sqrt(69739.76 / (16 - 1))\n",
    "\n",
    "Standard deviation = sqrt(4656.65)\n",
    "\n",
    "Standard deviation = 68.23\n",
    "\n",
    "Therefore, the standard deviation for the given data is 68.23 cm."
   ]
  },
  {
   "cell_type": "markdown",
   "id": "1b969414-cb69-4394-8dfe-1d565dd9ca3f",
   "metadata": {},
   "source": [
    "___________________________________________________________________________________________________________________________________________________________"
   ]
  },
  {
   "cell_type": "markdown",
   "id": "a72da3dd-6c5b-49f5-b43b-8dc8d9ed986b",
   "metadata": {},
   "source": [
    "Q5. How are measures of dispersion such as range, variance, and standard deviation used to describe\n",
    "the spread of a dataset? Provide an example."
   ]
  },
  {
   "cell_type": "markdown",
   "id": "1580942c-b9a2-4217-901c-f64657e1b198",
   "metadata": {},
   "source": [
    "Measures of dispersion such as range, variance, and standard deviation are used to describe the spread or variability of a dataset. They provide information about how much the data values differ from each other and from the central tendency measures like mean, median, or mode.\n",
    "\n",
    "Range: The range is the difference between the maximum and minimum values in the dataset. It provides a quick way to get an idea of how spread out the data is. However, it is sensitive to extreme values or outliers that might skew the results. For example, if we have a dataset of test scores ranging from 50 to 100, the range would be 50.\n",
    "\n",
    "Variance: Variance measures how much the data values deviate from the mean. It calculates the average of the squared deviations from the mean, and it is used to understand how much the data points are spread out from the average. A high variance indicates that the data points are far away from the mean, while a low variance indicates that the data points are close to the mean. For example, if we have a dataset of salaries with a mean of $50,000 and a variance of $100,000, then we can say that the salaries are spread out from the mean.\n",
    "\n",
    "Standard deviation: Standard deviation is a measure of how much the data values deviate from the mean. It is calculated as the square root of the variance, and it provides a way to understand how tightly the data points are clustered around the mean. A low standard deviation indicates that the data points are closely packed around the mean, while a high standard deviation indicates that the data points are more spread out. For example, if we have a dataset of exam scores with a mean of 70 and a standard deviation of 10, then we can say that most of the scores are clustered around 70, with some scores varying by around 10 points.\n",
    "\n",
    "In summary, measures of dispersion provide complementary information to measures of central tendency by describing the variability or spread of the data. They can be used to identify patterns, outliers, or trends in the data, as well as to compare and analyze different datasets."
   ]
  },
  {
   "cell_type": "markdown",
   "id": "d2e774c7-b5f7-4f49-a673-2f10779ef623",
   "metadata": {},
   "source": [
    "___________________________________________________________________________________________________________________________________________________________"
   ]
  },
  {
   "cell_type": "markdown",
   "id": "f191a079-c778-4417-8def-b444062a3e96",
   "metadata": {},
   "source": [
    "\n",
    "Q6. What is a Venn diagram?"
   ]
  },
  {
   "cell_type": "markdown",
   "id": "7f9076ec-aa99-4724-8d7c-3da23e452c7c",
   "metadata": {},
   "source": [
    "A Venn diagram is a graphical representation of the relationships between different sets of data. It is used to visually display the similarities and differences between two or more groups or categories of data.\n",
    "\n",
    "The diagram consists of circles, rectangles, or other shapes that represent the different sets or categories of data. Each set is represented by a separate shape, and the overlap between the shapes shows the similarities between the sets. The size of the shapes and the extent of the overlap can be adjusted to reflect the size and degree of similarity between the sets.\n",
    "\n",
    "Venn diagrams are commonly used in mathematics, statistics, and other fields to illustrate logical relationships and set theory. They can also be used in business, marketing, and other areas to analyze and compare data sets, to identify trends and patterns, and to support decision-making.\n",
    "\n",
    "Overall, Venn diagrams provide a simple and intuitive way to visualize complex data sets and to highlight the relationships between different categories or groups of data"
   ]
  },
  {
   "cell_type": "markdown",
   "id": "11681ab2-afb7-4388-b5c1-7b58e72e5298",
   "metadata": {},
   "source": [
    "___________________________________________________________________________________________________________________________________________________________"
   ]
  },
  {
   "cell_type": "markdown",
   "id": "df445e81-f05c-48cc-af3f-c3493e3bb895",
   "metadata": {},
   "source": [
    "Q7. For the two given sets A = (2,3,4,5,6,7) & B = (0,2,6,8,10). Find:\n",
    "(i) A B\n",
    "(ii) A ⋃ B"
   ]
  },
  {
   "cell_type": "markdown",
   "id": "62c64afb-d546-4072-886a-b7f508b78012",
   "metadata": {},
   "source": [
    "ANSWER:\n",
    "(i) A n B\n",
    "    {2,6}\n",
    "\n",
    "(ii) A U B \n",
    " {0,2,3,4,5,6,7,8,10}"
   ]
  },
  {
   "cell_type": "markdown",
   "id": "9fe3ac88-0be5-4416-b97f-a2bf5fcfe035",
   "metadata": {},
   "source": [
    "___________________________________________________________________________________________________________________________________________________________"
   ]
  },
  {
   "cell_type": "markdown",
   "id": "69ebd1f6-10a4-4d31-b958-8b0e1b24187f",
   "metadata": {},
   "source": [
    "Q8. What do you understand about skewness in data?"
   ]
  },
  {
   "cell_type": "markdown",
   "id": "95a367d0-f6eb-4cfd-9d93-4ed10dfeeb35",
   "metadata": {},
   "source": [
    "Skewness is a measure of the asymmetry of a probability distribution or a dataset. It indicates how much a distribution or a dataset deviates from a normal or symmetrical distribution.\n",
    "\n",
    "A symmetric distribution has equal amounts of data on both sides of the mean, and the skewness is close to zero. A positively skewed distribution has a longer right tail than the left, and the skewness is greater than zero. A negatively skewed distribution has a longer left tail than the right, and the skewness is less than zero.\n",
    "\n",
    "Skewness is important because it can affect the interpretation of statistical analyses, such as measures of central tendency (mean, median, mode) and variability (variance, standard deviation). In positively skewed data, the mean is typically larger than the median, while in negatively skewed data, the mean is typically smaller than the median. This can affect the choice of statistical tests and the interpretation of results.\n",
    "\n",
    "Skewness can also affect data visualization, as it can distort the appearance of graphs and charts. For example, in a histogram, a skewed distribution may appear to have more data in one part of the range than it actually does.\n",
    "\n",
    "Overall, understanding skewness in data is important in order to accurately interpret and analyze statistical results, and to effectively communicate data insights to others."
   ]
  },
  {
   "cell_type": "markdown",
   "id": "a044fd83-2a38-42e9-a98c-e24fe2682626",
   "metadata": {},
   "source": [
    "___________________________________________________________________________________________________________________________________________________________"
   ]
  },
  {
   "cell_type": "markdown",
   "id": "48071f24-c8d0-49bf-baaf-e589d482d320",
   "metadata": {},
   "source": [
    "Q9. If a data is right skewed then what will be the position of median with respect to mean?"
   ]
  },
  {
   "cell_type": "markdown",
   "id": "2184558b-cc74-4078-b9e2-085f77ed2d1e",
   "metadata": {},
   "source": [
    "If a dataset is right-skewed, meaning it has a longer tail on the right side of the distribution, then the median will typically be less than the mean. This is because the mean is affected by the extreme values on the right side of the distribution, which pull the mean towards the right and away from the median.\n",
    "\n",
    "In right-skewed data, there are a few extreme values on the right side of the distribution that are much higher than the other values, and these values have a strong effect on the mean. The median, on the other hand, is less affected by extreme values and represents the value in the middle of the dataset. As a result, the median tends to be closer to the values on the left side of the distribution and less affected by the values on the right side.\n",
    "\n",
    "So, in summary, if a dataset is right-skewed, the median is typically less than the mean."
   ]
  },
  {
   "cell_type": "markdown",
   "id": "cde8def7-1f5e-432b-8237-932f7cbd1eaa",
   "metadata": {},
   "source": [
    "___________________________________________________________________________________________________________________________________________________________"
   ]
  },
  {
   "cell_type": "markdown",
   "id": "31149338-89f1-4eac-9684-63fd658aa296",
   "metadata": {},
   "source": [
    "\n",
    "Q10. Explain the difference between covariance and correlation. How are these measures used in\n",
    "statistical analysis?"
   ]
  },
  {
   "cell_type": "markdown",
   "id": "5d46499e-13be-4aaa-936d-1f56c093154d",
   "metadata": {},
   "source": [
    "Covariance and correlation are two measures used to describe the relationship between two variables in a dataset. While they are related, they have some key differences:\n",
    "\n",
    "Covariance measures the degree to which two variables vary together. It is a measure of how much the values of one variable change when the values of another variable change. Covariance can be positive, negative, or zero. A positive covariance indicates that the variables tend to increase or decrease together, while a negative covariance indicates that the variables tend to move in opposite directions. However, covariance does not indicate the strength or direction of the relationship, only the degree of association.\n",
    "\n",
    "Correlation measures the strength and direction of the linear relationship between two variables. Correlation is always between -1 and 1, with a value of 0 indicating no correlation, a positive value indicating a positive correlation, and a negative value indicating a negative correlation. A perfect positive correlation is indicated by a correlation coefficient of 1, while a perfect negative correlation is indicated by a correlation coefficient of -1.\n",
    "\n",
    "In statistical analysis, both covariance and correlation are used to assess the relationship between two variables. However, correlation is generally preferred over covariance because it is standardized, meaning that it is not affected by differences in the scale of the variables. In contrast, covariance is affected by the units of measurement of the variables and can be difficult to interpret.\n",
    "\n",
    "Overall, understanding the difference between covariance and correlation is important for analyzing the relationship between two variables in a dataset and for selecting the appropriate statistical measures to use."
   ]
  },
  {
   "cell_type": "markdown",
   "id": "1d7eb84d-07ce-4566-9e8d-cc3963283839",
   "metadata": {},
   "source": [
    "___________________________________________________________________________________________________________________________________________________________"
   ]
  },
  {
   "cell_type": "markdown",
   "id": "c1767b7a-4beb-45a5-b54e-afc2c5efcefa",
   "metadata": {},
   "source": [
    "Q11. What is the formula for calculating the sample mean? Provide an example calculation for a\n",
    "dataset."
   ]
  },
  {
   "cell_type": "markdown",
   "id": "e7f10ae4-41a5-4708-b6dd-b4136596994e",
   "metadata": {},
   "source": [
    "The formula for calculating the sample mean is:\n",
    "\n",
    "sample mean = (sum of all values in the sample) / (number of values in the sample)\n",
    "\n",
    "In other words, to calculate the sample mean, you add up all of the values in the sample and divide by the total number of values in the sample.\n",
    "\n",
    "For example, suppose we have the following dataset of exam scores for a class of 10 students:\n",
    "\n",
    "85, 92, 76, 88, 90, 95, 82, 80, 84, 91\n",
    "\n",
    "To calculate the sample mean for this dataset, we would add up all of the values and divide by the total number of values:\n",
    "\n",
    "(85 + 92 + 76 + 88 + 90 + 95 + 82 + 80 + 84 + 91) / 10 = 863 / 10 = 86.3\n",
    "\n",
    "Therefore, the sample mean for this dataset is 86.3."
   ]
  },
  {
   "cell_type": "markdown",
   "id": "60bcf776-e1d8-4778-8268-4bf56c1c68ce",
   "metadata": {},
   "source": [
    "___________________________________________________________________________________________________________________________________________________________"
   ]
  },
  {
   "cell_type": "markdown",
   "id": "5f47cd3c-e853-4f88-82cc-9ade481a2c50",
   "metadata": {},
   "source": [
    "\n",
    "Q12. For a normal distribution data what is the relationship between its measure of central tendency?"
   ]
  },
  {
   "cell_type": "markdown",
   "id": "58981640-95e7-43be-9b3c-a84733710e8b",
   "metadata": {},
   "source": [
    "For a normal distribution, the three measures of central tendency - mean, median, and mode - are equal. This is because a normal distribution is symmetric around the mean, with half of the data falling to the left of the mean and half falling to the right. As a result, the median - which represents the middle value of the dataset - is the same as the mean. Additionally, in a normal distribution, the mode - which represents the value that occurs most frequently - is also equal to the mean and median.\n",
    "\n",
    "So in summary, for a normal distribution, the mean, median, and mode are equal and they represent the center of the distribution"
   ]
  },
  {
   "cell_type": "markdown",
   "id": "30fb7b2b-0614-4dc8-b6a4-fcc3905e27ee",
   "metadata": {},
   "source": [
    "___________________________________________________________________________________________________________________________________________________________"
   ]
  },
  {
   "cell_type": "markdown",
   "id": "68e28709-5136-4445-9609-b9507e141a0b",
   "metadata": {},
   "source": [
    "\n",
    "Q13. How is covariance different from correlation?"
   ]
  },
  {
   "cell_type": "markdown",
   "id": "f63c32f2-698f-43eb-b929-32012464e1a8",
   "metadata": {},
   "source": [
    "Covariance and correlation are both measures of the relationship between two variables, but they differ in several ways:\n",
    "\n",
    "Units of measurement: Covariance is affected by the units of measurement of the variables, while correlation is a dimensionless measure. This means that covariance can be difficult to interpret because it depends on the units of the variables being measured, whereas correlation is standardized and can be compared across different datasets.\n",
    "\n",
    "Range of values: Covariance can take on any value between negative infinity and positive infinity, while correlation is always between -1 and 1. A covariance of zero means that there is no linear relationship between the variables, while a correlation of zero means there is no linear relationship between the variables, but it does not necessarily mean that there is no relationship at all.\n",
    "\n",
    "Interpretation: Covariance can be difficult to interpret because its value depends on the scale of the variables. A positive covariance means that the variables tend to increase or decrease together, while a negative covariance means they tend to move in opposite directions. However, correlation is easier to interpret because it is standardized and can be interpreted as the strength and direction of the linear relationship between the variables.\n",
    "\n",
    "Overall, covariance and correlation are related measures of the relationship between two variables, but correlation is generally preferred over covariance because it is easier to interpret and compare across datasets."
   ]
  },
  {
   "cell_type": "markdown",
   "id": "f2675267-74fb-46e9-98a0-206ea3863b8f",
   "metadata": {},
   "source": [
    "___________________________________________________________________________________________________________________________________________________________"
   ]
  },
  {
   "cell_type": "markdown",
   "id": "cf40c9a2-56c3-4009-85ed-a020faba88ca",
   "metadata": {},
   "source": [
    "Q14. How do outliers affect measures of central tendency and dispersion? Provide an example."
   ]
  },
  {
   "cell_type": "markdown",
   "id": "dabaa596-113e-4976-95b2-427fac5e9d99",
   "metadata": {},
   "source": [
    "Outliers can have a significant impact on measures of central tendency and dispersion. An outlier is an observation that lies an abnormal distance from other values in a random sample from a population. Outliers can be caused by measurement or data entry errors, or they can be legitimate observations that are far from the norm.\n",
    "\n",
    "The presence of outliers can affect the measures of central tendency as follows:\n",
    "\n",
    "Mean: The presence of one or more outliers can significantly affect the mean, pulling it away from the true center of the distribution. This is because the mean is sensitive to extreme values.\n",
    "\n",
    "Median: The median is more resistant to outliers than the mean because it only depends on the middle value of the dataset. Outliers do not have a significant impact on the median.\n",
    "\n",
    "Mode: The mode is the value that appears most frequently in the dataset, and is also not significantly affected by outliers.\n",
    "\n",
    "The presence of outliers can also affect measures of dispersion, such as range, variance, and standard deviation. Outliers can increase the range and variance, making it appear that the data is more spread out than it actually is. Standard deviation can also be affected by outliers, making it a less reliable measure of dispersion.\n",
    "\n",
    "For example, consider the following dataset of salaries of employees in a company:\n",
    "\n",
    "40,000, 45,000, 55,000, 60,000, 62,000, 65,000, 70,000, 80,000, 85,000, 100,000, 110,000\n",
    "\n",
    "Suppose there is one outlier in the dataset - an employee who earns 1,000,000 per year. The presence of this outlier can significantly affect the measures of central tendency and dispersion:\n",
    "\n",
    "Mean: The mean salary with the outlier is 181,181, while without the outlier it is 68,000. This shows how the presence of a single outlier can significantly affect the mean.\n",
    "\n",
    "Median: The median salary without the outlier is 65,000, which is not significantly different from the median with the outlier.\n",
    "\n",
    "Range: The range with the outlier is 1,070,000, while without the outlier it is 70,000. This shows how the presence of a single outlier can significantly affect the range.\n",
    "\n",
    "Variance/Standard Deviation: The variance and standard deviation with the outlier are much larger than without the outlier, showing how the presence of a single outlier can significantly affect these measures of dispersion."
   ]
  },
  {
   "cell_type": "markdown",
   "id": "09effbe8-e136-4ea7-9647-d99d87e6d385",
   "metadata": {},
   "source": [
    "___________________________________________________________________________________________________________________________________________________________"
   ]
  },
  {
   "cell_type": "code",
   "execution_count": null,
   "id": "3731cc5b-f1ae-41cd-8bd2-b508334db80e",
   "metadata": {},
   "outputs": [],
   "source": []
  }
 ],
 "metadata": {
  "kernelspec": {
   "display_name": "Python 3 (ipykernel)",
   "language": "python",
   "name": "python3"
  },
  "language_info": {
   "codemirror_mode": {
    "name": "ipython",
    "version": 3
   },
   "file_extension": ".py",
   "mimetype": "text/x-python",
   "name": "python",
   "nbconvert_exporter": "python",
   "pygments_lexer": "ipython3",
   "version": "3.10.8"
  }
 },
 "nbformat": 4,
 "nbformat_minor": 5
}
